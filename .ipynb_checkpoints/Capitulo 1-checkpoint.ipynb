{
 "cells": [
  {
   "cell_type": "markdown",
   "id": "bc80fce5-2c04-46b0-8f4d-b757cb4abc48",
   "metadata": {},
   "source": [
    "# Capitulo 1. Introducción a Robust Python"
   ]
  },
  {
   "cell_type": "markdown",
   "id": "ce33b8b3-cb14-4e17-b45a-dd0b6fdffa05",
   "metadata": {},
   "source": [
    "## Robustes\n",
    "Definición:\n",
    "1. Tener o exibir fuerza o salud vigorosa\n",
    "2. Tener o mostrar vigor, fuerza o firmeza\n",
    "3. Fuertemente formado o construido\n",
    "4. capaz de presentarse sin fallas bajo un pequeño número de condiciones\n"
   ]
  },
  {
   "cell_type": "markdown",
   "id": "5b76a700-d5f2-40cc-aa95-06add5722663",
   "metadata": {},
   "source": [
    "### La importancia de el código limpio\n",
    "\n",
    "Tener un código limpio es fundamental para tener un código robusto, considera un aapuesta segura para cualquier proyecto significativo, Hay algunas prácticas específicas vinculadas para escribir código limpio, incluyendo:\n",
    "\n",
    "* Organizar el código de forma adecuadamente granular\n",
    "* Proveér buena documentación\n",
    "* Nombrar tus variables/Funciones/Tipo de forma adecuada\n",
    "* Mantener funciones cortas y simples"
   ]
  },
  {
   "cell_type": "markdown",
   "id": "877a8323-69cb-458a-8cda-a3bd501afac8",
   "metadata": {},
   "source": [
    "## ¿Cuál es su intención?"
   ]
  },
  {
   "cell_type": "code",
   "execution_count": 2,
   "id": "5341b8b7-3273-4e5d-a895-f9d7eff8a28e",
   "metadata": {},
   "outputs": [],
   "source": [
    "# Toma una receta de comida y cambia el número de servicios\n",
    "# para ajustar cada ingrediente\n",
    "# El prime elemento de una receta es el numero de servicios, y el resto\n",
    "# de elementos (nombre, monto, unidades), tal como (\"fluor\",1.5,\"cup)\n",
    "\n",
    "def adjust_recipe(recipe, servings):\n",
    "    new_recipe = [servings]\n",
    "    old_serving = recipe[0]\n",
    "    factor = servings / old_serving\n",
    "    recipe.pop(0)\n",
    "    while recipe:\n",
    "        ingredient, amount, unit = recipe.pop(0)\n",
    "        # solo usa números que serán facilmente medibles\n",
    "        new_recipe.append((ingredient, amount*factor,unit))\n",
    "        return new_recipe"
   ]
  },
  {
   "cell_type": "code",
   "execution_count": null,
   "id": "9a17004e-2d94-4a9e-a48d-03580d481e6f",
   "metadata": {},
   "outputs": [],
   "source": []
  }
 ],
 "metadata": {
  "kernelspec": {
   "display_name": "Python 3 (ipykernel)",
   "language": "python",
   "name": "python3"
  },
  "language_info": {
   "codemirror_mode": {
    "name": "ipython",
    "version": 3
   },
   "file_extension": ".py",
   "mimetype": "text/x-python",
   "name": "python",
   "nbconvert_exporter": "python",
   "pygments_lexer": "ipython3",
   "version": "3.10.9"
  }
 },
 "nbformat": 4,
 "nbformat_minor": 5
}
