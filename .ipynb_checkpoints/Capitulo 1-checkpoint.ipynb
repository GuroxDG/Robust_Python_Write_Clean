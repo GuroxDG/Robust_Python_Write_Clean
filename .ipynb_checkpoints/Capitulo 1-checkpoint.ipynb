{
 "cells": [
  {
   "cell_type": "markdown",
   "id": "bc80fce5-2c04-46b0-8f4d-b757cb4abc48",
   "metadata": {},
   "source": [
    "# Capitulo 1. Introducción a Robust Python"
   ]
  },
  {
   "cell_type": "markdown",
   "id": "ce33b8b3-cb14-4e17-b45a-dd0b6fdffa05",
   "metadata": {},
   "source": [
    "## Robustes"
   ]
  },
  {
   "cell_type": "code",
   "execution_count": null,
   "id": "cb49ea71-57b2-4807-a0b9-bc623a07ec5c",
   "metadata": {},
   "outputs": [],
   "source": []
  }
 ],
 "metadata": {
  "kernelspec": {
   "display_name": "Python 3 (ipykernel)",
   "language": "python",
   "name": "python3"
  },
  "language_info": {
   "codemirror_mode": {
    "name": "ipython",
    "version": 3
   },
   "file_extension": ".py",
   "mimetype": "text/x-python",
   "name": "python",
   "nbconvert_exporter": "python",
   "pygments_lexer": "ipython3",
   "version": "3.10.9"
  }
 },
 "nbformat": 4,
 "nbformat_minor": 5
}
